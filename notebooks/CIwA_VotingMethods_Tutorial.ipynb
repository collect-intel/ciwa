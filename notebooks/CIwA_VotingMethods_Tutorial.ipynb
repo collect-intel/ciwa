{
 "cells": [
  {
   "cell_type": "markdown",
   "id": "6eae76fb",
   "metadata": {},
   "source": [
    "# CIwA Voting Methods Tutorial\n",
    "\n",
    "This notebook explains and demonstrates the different VotingMethods available in the CIwA module. We will cover the LabelVotingMethod and CompareVotingMethod, showcasing different classes for each:\n",
    "1. YesNoLabel\n",
    "2. EnumLabel\n",
    "3. ScoreLabel\n",
    "4. ScoreCompare\n",
    "5. RankingCompare"
   ]
  },
  {
   "cell_type": "code",
   "execution_count": null,
   "id": "4f0a8907-8cc2-474c-85a9-766c53b9d57f",
   "metadata": {},
   "outputs": [],
   "source": [
    "# Prepare correct module path for notebook\n",
    "import sys\n",
    "import os\n",
    "\n",
    "# Add the parent directory of the 'ciwa' module to the Python path\n",
    "module_path = os.path.abspath(os.path.join('..'))\n",
    "if module_path not in sys.path:\n",
    "    sys.path.append(module_path)"
   ]
  },
  {
   "cell_type": "markdown",
   "id": "18ce88c6",
   "metadata": {},
   "source": [
    "## Setup\n",
    "\n",
    "First, let's import the necessary modules and initialize the CIwA process."
   ]
  },
  {
   "cell_type": "code",
   "execution_count": null,
   "id": "4e557baa",
   "metadata": {},
   "outputs": [],
   "source": [
    "import asyncio\n",
    "import ciwa\n",
    "\n",
    "config_dict = {\n",
    "    \"process\": {\n",
    "        \"name\": \"CIwA VotingMethods Demonstration\",\n",
    "        \"description\": \"A demo process for CIwA VotingMethods\",\n",
    "        \"default_session_settings\": {\n",
    "            \"submissions_per_participant_per_topic\": 3, # number of submissions a participant can submit per topic\n",
    "        },\n",
    "    }\n",
    "}\n",
    "\n",
    "# Initialize configuration manager\n",
    "config_manager = ciwa.ConfigManager(config=config_dict)\n",
    "\n",
    "# Create process configuration\n",
    "process_config = config_manager.get_config(\"process\")\n",
    "process = ciwa.ProcessFactory.create_process(process_config)\n",
    "\n",
    "print(f\"Process {process.name} initialized with UUID: {process.uuid}\")"
   ]
  },
  {
   "cell_type": "markdown",
   "id": "807927f7-e25c-4918-9a4d-b5a827a2820f",
   "metadata": {},
   "source": [
    "### Let's use a function to create a session config for a given VotingMethod.\n",
    "\n",
    "We will use this to make it easy to spin up new sessions with the same group of Participant agents for each VotingMethod. It takes a `title` and `description` for a single Topic that Participants will be prompted for submissions on.\n",
    "\n",
    "Use `LLMAgentParticipant` to generate dummy data without waiting on API calls and using up tokens, or `ConversableAgentParticipant` to call whatever models are saved in your `OAI_CONFIG_LIST.json`."
   ]
  },
  {
   "cell_type": "code",
   "execution_count": null,
   "id": "3483b36a-8178-4294-9b90-223c6db09b7c",
   "metadata": {},
   "outputs": [],
   "source": [
    "USE_DUMMY_DATA = True\n",
    "participant_type = \"LLMAgentParticipant\" if USE_DUMMY_DATA else \"ConversableAgentParticipant\""
   ]
  },
  {
   "cell_type": "code",
   "execution_count": null,
   "id": "f3134407-78b3-45c0-ae8d-c5a74d9fe2e8",
   "metadata": {},
   "outputs": [],
   "source": [
    "number_of_participants = 4\n",
    "\n",
    "def create_session_config(voting_method, title, description, voting_method_args={}):\n",
    "    voting_method_config = {\"type\": voting_method}\n",
    "    voting_method_config.update(voting_method_args)\n",
    "    new_session_config = {\n",
    "        \"name\": f\"{voting_method} Demo Session\",\n",
    "        \"description\": f\"A session demonstrating the use of {voting_method}\",\n",
    "        \"topics\": [\n",
    "            {\n",
    "                \"title\": title,\n",
    "                \"description\": description,\n",
    "                \"voting_method\": voting_method_config\n",
    "            }\n",
    "        ],\n",
    "        \"participants\": [\n",
    "            {\n",
    "                \"type\": participant_type,\n",
    "                \"model\": \"gpt-3.5-turbo\",\n",
    "                \"temperature\": 1.5, # higher temperature (0-2) increases randomness/diversity of output\n",
    "                \"cache_seed\": None, # set to None to avoid caching LLM replies\n",
    "            } for _ in range(number_of_participants)\n",
    "        ],\n",
    "        \"save_results\": False    \n",
    "    }\n",
    "    return new_session_config"
   ]
  },
  {
   "cell_type": "markdown",
   "id": "6d1969a8-c070-408a-9bf6-6906e9fe7ef2",
   "metadata": {},
   "source": [
    "### And a function to run a session from a config one at a time\n",
    "\n",
    "We could define all the settings for all sessions at once and then run an entire process using `process.run()`. But let's create and run one session at a time to illustrate the different VotingMethods."
   ]
  },
  {
   "cell_type": "code",
   "execution_count": null,
   "id": "6e29a4b0-6b58-45f9-b8c7-a60630eaba65",
   "metadata": {},
   "outputs": [],
   "source": [
    "# Use the nest_asyncio package to allow nested use of asyncio.run() in a Notebook\n",
    "import nest_asyncio\n",
    "nest_asyncio.apply()\n",
    "\n",
    "def create_and_run_session(config):    \n",
    "    # Add the session to the process\n",
    "    process.add_session(config)\n",
    "    asyncio.run(process.run_next_session())\n",
    "    return process.completed_sessions[-1]"
   ]
  },
  {
   "cell_type": "markdown",
   "id": "769e51bb",
   "metadata": {},
   "source": [
    "## 1. YesNoLabel\n",
    "\n",
    "The YesNoLabel voting method allows participants to vote 'Yes' or 'No' on each submission."
   ]
  },
  {
   "cell_type": "code",
   "execution_count": null,
   "id": "ec0023fd",
   "metadata": {},
   "outputs": [],
   "source": [
    "# Configure a session with YesNoLabel voting method\n",
    "config = create_session_config(\n",
    "    \"YesNoLabel\",\n",
    "    title=\"What are non-obvious principles you think an AI Chat Assistant should follow that not everyone might agree with?\",\n",
    "    description=\"There are probably many principles for an AI Chat Assistant that almost everyone will agree with. \"\\\n",
    "                \"Try to only submit a principle that you think an AI Chat Assistant should follow, but may be controversial to other people.\"\n",
    ")\n",
    "\n",
    "session = create_and_run_session(config)"
   ]
  },
  {
   "cell_type": "code",
   "execution_count": null,
   "id": "79ee0866-6d2f-4ec0-b62e-b193d29cb4b2",
   "metadata": {},
   "outputs": [],
   "source": [
    "# Visualize the results\n",
    "ciwa.display_results(session, aggregated_only=True)"
   ]
  },
  {
   "cell_type": "markdown",
   "id": "b7180f89",
   "metadata": {},
   "source": [
    "## 2. EnumLabel\n",
    "\n",
    "The EnumLabel voting method allows participants to choose from a predefined set of labels."
   ]
  },
  {
   "cell_type": "code",
   "execution_count": null,
   "id": "ec9cb240",
   "metadata": {},
   "outputs": [],
   "source": [
    "# Configure a session with EnumLabel voting method\n",
    "config = create_session_config(\n",
    "    \"EnumLabel\",\n",
    "    title=\"What are some challenging scenarios an AI Chat Assistant might face when prompted by a user?\",\n",
    "    description=\"Describe a very specific and realistic prompt from a human user to an AI Chat Assistant. \"\\\n",
    "                \"Describe four possible realistic responses the AI Chat Assistant might make, with each response enumerated A. B. C. D.\",\n",
    "    voting_method_args={\"enum_values\": [\"A\", \"B\", \"C\", \"D\"]}    \n",
    ")\n",
    "session = create_and_run_session(config)"
   ]
  },
  {
   "cell_type": "code",
   "execution_count": null,
   "id": "6a9cc034-ddaa-4387-80f1-d534bc62789b",
   "metadata": {},
   "outputs": [],
   "source": [
    "# Visualize the results\n",
    "ciwa.display_results(session, aggregated_only=True)"
   ]
  },
  {
   "cell_type": "markdown",
   "id": "74307597",
   "metadata": {},
   "source": [
    "## 3. ScoreLabel\n",
    "\n",
    "The ScoreLabel voting method allows participants to assign a score to each submission."
   ]
  },
  {
   "cell_type": "code",
   "execution_count": null,
   "id": "b908573d",
   "metadata": {},
   "outputs": [],
   "source": [
    "# Configure a session with EnumLabel voting method\n",
    "config = create_session_config(\n",
    "    \"ScoreLabel\",\n",
    "    title=\"What rules should an AI Chat Assistant follow in oder to best maximize user well-being?\",\n",
    "    description=\"Describe a rule for an AI Chat Assistant that will maximize the well-being of the user prompting the Assistant.\",\n",
    "    voting_method_args={\n",
    "        \"start_value\": 1,\n",
    "        \"end_value\": 10,\n",
    "        \"increment_value\": 1\n",
    "    }\n",
    ")\n",
    "session = create_and_run_session(config)"
   ]
  },
  {
   "cell_type": "code",
   "execution_count": null,
   "id": "a13acf07-7520-48da-8517-386122de1f87",
   "metadata": {},
   "outputs": [],
   "source": [
    "# Visualize the results\n",
    "ciwa.display_results(session, aggregated_only=True)"
   ]
  },
  {
   "cell_type": "markdown",
   "id": "ba9fc50d",
   "metadata": {},
   "source": [
    "## 4. ScoreCompare\n",
    "\n",
    "The ScoreCompare voting method allows participants to view all submissions and assign a score to each."
   ]
  },
  {
   "cell_type": "code",
   "execution_count": null,
   "id": "75b6572a",
   "metadata": {},
   "outputs": [],
   "source": [
    "# Configure a session with EnumLabel voting method\n",
    "config = create_session_config(\n",
    "    \"ScoreCompare\",\n",
    "    title=\"What rules should an AI Chat Assistant follow in oder to best maximize user well-being?\",\n",
    "    description=\"Describe a rule for an AI Chat Assistant that will maximize the well-being of the user prompting the Assistant.\",\n",
    "    voting_method_args={\n",
    "        \"start_value\": 1,\n",
    "        \"end_value\": 10,\n",
    "        \"increment_value\": 1\n",
    "    }\n",
    ")\n",
    "session = create_and_run_session(config)"
   ]
  },
  {
   "cell_type": "code",
   "execution_count": null,
   "id": "4a7bd1b9-2e62-4eb0-951d-53a29340eb09",
   "metadata": {},
   "outputs": [],
   "source": [
    "# Visualize the results\n",
    "ciwa.display_results(session, aggregated_only=True)"
   ]
  },
  {
   "cell_type": "markdown",
   "id": "0925bfa9",
   "metadata": {},
   "source": [
    "## 5. RankingCompare\n",
    "\n",
    "The RankingCompare voting method allows participants to rank all submissions from most preferred to least preferred."
   ]
  },
  {
   "cell_type": "code",
   "execution_count": null,
   "id": "df4a576d",
   "metadata": {},
   "outputs": [],
   "source": [
    "# Configure a session with EnumLabel voting method\n",
    "config = create_session_config(\n",
    "    \"RankingCompare\",\n",
    "    title=\"What kind of response from an AI Chat Asisstant would best maximize the \"\\\n",
    "          \"well-being of a human user who prompts the Assistant with the following:\\n\"\\\n",
    "          \"Hi, I'm a junior employee at my company, and I recently discovered that my \"\\\n",
    "          \"boss has been altering financial records to make our department's performance \"\\\n",
    "          \"look better than it actually is. I'm worried about the legal and ethical \"\\\n",
    "          \"implications, but I'm also afraid of losing my job if I report this. What \"\\\n",
    "          \"should I do?\",\n",
    "    description=\"Provide a realistic response as an AI Chat Assistant that will best \"\\\n",
    "          \"maximize the well-being of a human user who gives you this prompt.\",\n",
    "    voting_method_args={}\n",
    ")\n",
    "session = create_and_run_session(config)"
   ]
  },
  {
   "cell_type": "code",
   "execution_count": null,
   "id": "d850ccdd-805c-4466-89a9-595066317772",
   "metadata": {},
   "outputs": [],
   "source": [
    "ciwa.display_results(session, aggregated_only=True)"
   ]
  },
  {
   "cell_type": "code",
   "execution_count": null,
   "id": "d0feb5ff-2851-443e-8902-dae731fc194b",
   "metadata": {},
   "outputs": [],
   "source": []
  }
 ],
 "metadata": {
  "kernelspec": {
   "display_name": "Python 3 (ipykernel)",
   "language": "python",
   "name": "python3"
  },
  "language_info": {
   "codemirror_mode": {
    "name": "ipython",
    "version": 3
   },
   "file_extension": ".py",
   "mimetype": "text/x-python",
   "name": "python",
   "nbconvert_exporter": "python",
   "pygments_lexer": "ipython3",
   "version": "3.12.2"
  }
 },
 "nbformat": 4,
 "nbformat_minor": 5
}
