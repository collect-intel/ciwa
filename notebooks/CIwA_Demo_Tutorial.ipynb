{
 "cells": [
  {
   "cell_type": "markdown",
   "metadata": {},
   "source": [
    "# CIwA_Demo_Tutorial\n",
    "\n",
    "This notebook demonstrates initializing, configuring, and running a CIwA process. It also covers the meaning and use of various components such as Process, Session, Topic, Submission, VotingManager, VotingMethod, Participant, and VotingResults."
   ]
  },
  {
   "cell_type": "markdown",
   "metadata": {},
   "source": [
    "## Install necessary packages if not already installed"
   ]
  },
  {
   "cell_type": "code",
   "execution_count": null,
   "metadata": {},
   "outputs": [],
   "source": [
    "!pip install matplotlib networkx pyyaml jsonschema ipywidgets nest_asyncio\n"
   ]
  },
  {
   "cell_type": "markdown",
   "metadata": {},
   "source": [
    "## Set up the Python path to include the parent directory of the ciwa module"
   ]
  },
  {
   "cell_type": "code",
   "execution_count": 1,
   "metadata": {},
   "outputs": [],
   "source": [
    "import sys\n",
    "import os\n",
    "\n",
    "# Add the parent directory of the 'ciwa' module to the Python path\n",
    "module_path = os.path.abspath(os.path.join('..'))\n",
    "if module_path not in sys.path:\n",
    "    sys.path.append(module_path)"
   ]
  },
  {
   "cell_type": "markdown",
   "metadata": {},
   "source": [
    "## Import necessary modules"
   ]
  },
  {
   "cell_type": "code",
   "execution_count": 2,
   "metadata": {},
   "outputs": [],
   "source": [
    "import asyncio\n",
    "from ciwa.config.config_manager import ConfigManager\n",
    "from ciwa.models.process import ProcessFactory\n",
    "from ciwa.models.session import SessionFactory\n",
    "from ciwa.models.topic import TopicFactory\n",
    "from ciwa.models.participants.participant_factory import ParticipantFactory\n",
    "from ciwa.utils.notebook_utils import visualize_session, display_results"
   ]
  },
  {
   "cell_type": "markdown",
   "metadata": {},
   "source": [
    "## Initialize ConfigManager from a configuration dictionary"
   ]
  },
  {
   "cell_type": "code",
   "execution_count": 3,
   "metadata": {},
   "outputs": [],
   "source": [
    "config_dict = {\n",
    "    \"process\": {\n",
    "        \"name\": \"CIwA Demo Process\",\n",
    "        \"description\": \"A demo process for CIwA\",\n",
    "        \"default_session_settings\": {\n",
    "            \"max_subs_per_topic\": 5,\n",
    "            \"max_concurrent\": 100,\n",
    "            \"default_topic_settings\": {\n",
    "                \"voting_method\": {\n",
    "                    \"type\": \"RankingCompare\"\n",
    "                }\n",
    "            },\n",
    "            \"participants\": [\n",
    "                {\n",
    "                    \"type\": \"LLMAgentParticipant\",\n",
    "                    \"model\": \"gpt-3.5-turbo\",\n",
    "                    \"temperature\": 0.5,\n",
    "                    \"prompt_template\": \"default_template\"\n",
    "                }\n",
    "            ]\n",
    "        },\n",
    "        \"sessions\": [\n",
    "            {\n",
    "                \"name\": \"Demo Session\",\n",
    "                \"description\": \"A demo session for CIwA\",\n",
    "                \"topics\": [\n",
    "                    {\n",
    "                        \"title\": \"What is a good topic to test this on?\",\n",
    "                        \"description\": \"Give a submission for what would be a good topic to test this on.\"\n",
    "                    }\n",
    "                ]\n",
    "            }\n",
    "        ]\n",
    "    }\n",
    "}\n",
    "\n",
    "config_manager = ConfigManager(config=config_dict)"
   ]
  },
  {
   "cell_type": "markdown",
   "metadata": {},
   "source": [
    "## Create a Process"
   ]
  },
  {
   "cell_type": "code",
   "execution_count": 4,
   "metadata": {},
   "outputs": [
    {
     "name": "stderr",
     "output_type": "stream",
     "text": [
      "2024-06-13 14:26:41,400 - INFO - VotingManager initialized with voting_method: RankingCompare\n",
      "2024-06-13 14:26:41,401 - INFO - Topic initialized with UUID: 3194918a-c7a1-44b9-8708-70a27f1674aa\n",
      "2024-06-13 14:26:41,406 - INFO - LLMAgentParticipant initialized with model: gpt-3.5-turbo\n",
      "2024-06-13 14:26:41,406 - INFO - Session initialized with UUID: 3016cb31-8910-4ecb-9ec2-5764965680bd\n",
      "2024-06-13 14:26:41,407 - INFO - Session topics: ['What is a good topic to test this on?']\n",
      "2024-06-13 14:26:41,407 - INFO - Process initialized with default configurations.\n"
     ]
    }
   ],
   "source": [
    "process_config = config_manager.get_config(\"process\")\n",
    "process = ProcessFactory.create_process(**process_config)"
   ]
  },
  {
   "cell_type": "markdown",
   "metadata": {},
   "source": [
    "## Add a new session to the process"
   ]
  },
  {
   "cell_type": "code",
   "execution_count": 5,
   "metadata": {},
   "outputs": [
    {
     "name": "stderr",
     "output_type": "stream",
     "text": [
      "2024-06-13 14:26:45,765 - INFO - VotingManager initialized with voting_method: YesNoLabel\n",
      "2024-06-13 14:26:45,766 - INFO - Topic initialized with UUID: acc60a4c-1fb7-4616-ab00-351f865057e3\n",
      "2024-06-13 14:26:45,771 - INFO - ConversableAgentParticipant initialized with model: gpt-3.5-turbo\n",
      "2024-06-13 14:26:45,771 - INFO - Loading config from: /Users/evan/Documents/GitHub/notebooks/coding/ciwa/config/OAI_CONFIG_LIST.json\n"
     ]
    },
    {
     "name": "stdout",
     "output_type": "stream",
     "text": [
      "[autogen.oai.client: 06-13 14:26:45] {129} WARNING - The API key specified is not a valid OpenAI format; it won't work with the OpenAI-hosted model.\n"
     ]
    },
    {
     "name": "stderr",
     "output_type": "stream",
     "text": [
      "2024-06-13 14:26:45,792 - WARNING - The API key specified is not a valid OpenAI format; it won't work with the OpenAI-hosted model.\n",
      "2024-06-13 14:26:45,793 - INFO - Session initialized with UUID: c940c200-4cee-4e9d-8985-9b7ee5fce0bb\n",
      "2024-06-13 14:26:45,794 - INFO - Session topics: ['What are some interesting AI challenges?']\n",
      "2024-06-13 14:26:45,794 - INFO - Added new session: New Demo Session\n"
     ]
    }
   ],
   "source": [
    "new_session_config = {\n",
    "    \"name\": \"New Demo Session\",\n",
    "    \"description\": \"Another demo session for CIwA\",\n",
    "    \"topics\": [\n",
    "        {\n",
    "            \"title\": \"What are some interesting AI challenges?\",\n",
    "            \"description\": \"Provide a list of interesting AI challenges.\"\n",
    "        }\n",
    "    ],\n",
    "    \"participants\": [\n",
    "        {\n",
    "            \"type\": \"ConversableAgentParticipant\",\n",
    "            \"model\": \"gpt-3.5-turbo\"\n",
    "        }\n",
    "    ]\n",
    "}\n",
    "\n",
    "process.add_session(new_session_config)"
   ]
  },
  {
   "cell_type": "markdown",
   "metadata": {},
   "source": [
    "## Visualize the process and sessions"
   ]
  },
  {
   "cell_type": "code",
   "execution_count": null,
   "metadata": {},
   "outputs": [],
   "source": [
    "print(\"Process and Sessions Initialized\")\n",
    "print(f\"Process: {process.name}\")\n",
    "for session in process.pending_sessions:\n",
    "    print(f\"Session: {session.name}, Description: {session.description}\")"
   ]
  },
  {
   "cell_type": "markdown",
   "metadata": {},
   "source": [
    "## Run a session and gather submissions"
   ]
  },
  {
   "cell_type": "code",
   "execution_count": null,
   "metadata": {},
   "outputs": [],
   "source": [
    "# Use the nest_asyncio package to allow nested use of asyncio.run() in a Notebook\n",
    "import nest_asyncio\n",
    "nest_asyncio.apply()\n",
    "\n",
    "async def run_session():\n",
    "    await process.run_next_session()\n",
    "\n",
    "await run_session()"
   ]
  },
  {
   "cell_type": "markdown",
   "metadata": {},
   "source": [
    "## Visualize session results"
   ]
  },
  {
   "cell_type": "code",
   "execution_count": null,
   "metadata": {},
   "outputs": [],
   "source": [
    "session = process.completed_sessions[-1]\n",
    "visualize_session(session)\n",
    "display_results(session)"
   ]
  }
 ],
 "metadata": {
  "kernelspec": {
   "display_name": "Python 3 (ipykernel)",
   "language": "python",
   "name": "python3"
  },
  "language_info": {
   "codemirror_mode": {
    "name": "ipython",
    "version": 3
   },
   "file_extension": ".py",
   "mimetype": "text/x-python",
   "name": "python",
   "nbconvert_exporter": "python",
   "pygments_lexer": "ipython3",
   "version": "3.12.2"
  }
 },
 "nbformat": 4,
 "nbformat_minor": 4
}
