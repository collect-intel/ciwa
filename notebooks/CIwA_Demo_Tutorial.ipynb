{
 "cells": [
  {
   "cell_type": "markdown",
   "metadata": {},
   "source": [
    "# CIwA_Demo_Tutorial\n",
    "\n",
    "This notebook demonstrates initializing, configuring, and running a CIwA process. It also covers the meaning and use of various components such as Process, Session, Topic, Submission, VotingManager, VotingMethod, Participant, and VotingResults."
   ]
  },
  {
   "cell_type": "markdown",
   "metadata": {},
   "source": [
    "## Install necessary packages if not already installed"
   ]
  },
  {
   "cell_type": "code",
   "execution_count": null,
   "metadata": {},
   "outputs": [],
   "source": [
    "!pip install matplotlib networkx pyyaml jsonschema ipywidgets nest_asyncio\n"
   ]
  },
  {
   "cell_type": "markdown",
   "metadata": {},
   "source": [
    "## Set up the Python path to include the parent directory of the ciwa module"
   ]
  },
  {
   "cell_type": "code",
   "execution_count": null,
   "metadata": {},
   "outputs": [],
   "source": [
    "import sys\n",
    "import os\n",
    "\n",
    "# Add the parent directory of the 'ciwa' module to the Python path\n",
    "module_path = os.path.abspath(os.path.join('..'))\n",
    "if module_path not in sys.path:\n",
    "    sys.path.append(module_path)"
   ]
  },
  {
   "cell_type": "markdown",
   "metadata": {},
   "source": [
    "## Import necessary modules"
   ]
  },
  {
   "cell_type": "code",
   "execution_count": null,
   "metadata": {},
   "outputs": [],
   "source": [
    "import asyncio\n",
    "from ciwa.config.config_manager import ConfigManager\n",
    "from ciwa.models.process import ProcessFactory\n",
    "from ciwa.models.session import SessionFactory\n",
    "from ciwa.models.topic import TopicFactory\n",
    "from ciwa.models.participants.participant_factory import ParticipantFactory\n",
    "from ciwa.utils.notebook_utils import visualize_session, display_results"
   ]
  },
  {
   "cell_type": "markdown",
   "metadata": {},
   "source": [
    "## Initialize ConfigManager from a configuration dictionary"
   ]
  },
  {
   "cell_type": "code",
   "execution_count": null,
   "metadata": {},
   "outputs": [],
   "source": [
    "config_dict = {\n",
    "    \"process\": {\n",
    "        \"name\": \"CIwA Demo Process\",\n",
    "        \"description\": \"A demo process for CIwA\",\n",
    "        \"default_session_settings\": {\n",
    "            \"max_subs_per_topic\": 5, # number of submissions a participant can submit per topic\n",
    "            \"max_concurrent\": 100, # limit of concurrent threads (for saving compute if needed)\n",
    "            \"default_topic_settings\": {\n",
    "                \"voting_method\": {\n",
    "                    \"type\": \"RankingCompare\"\n",
    "                }\n",
    "            },\n",
    "            \"participants\": [\n",
    "                {\n",
    "                    \"type\": \"LLMAgentParticipant\", # this is a demo participant that generates dummy code\n",
    "                    \"model\": \"demo\"\n",
    "                }\n",
    "            ]\n",
    "        },\n",
    "        \"sessions\": [\n",
    "            {\n",
    "                \"name\": \"Demo Session\",\n",
    "                \"description\": \"A demo session for CIwA\",\n",
    "                \"topics\": [\n",
    "                    {\n",
    "                        \"title\": \"What is a good topic to test this on?\",\n",
    "                        \"description\": \"Give a submission for what would be a good topic to test this on.\"\n",
    "                    }\n",
    "                ]\n",
    "            }\n",
    "        ]\n",
    "    }\n",
    "}\n",
    "\n",
    "config_manager = ConfigManager(config=config_dict)"
   ]
  },
  {
   "cell_type": "markdown",
   "metadata": {},
   "source": [
    "## Create a Process"
   ]
  },
  {
   "cell_type": "code",
   "execution_count": null,
   "metadata": {},
   "outputs": [],
   "source": [
    "process_config = config_manager.get_config(\"process\")\n",
    "process = ProcessFactory.create_process(**process_config)"
   ]
  },
  {
   "cell_type": "markdown",
   "metadata": {},
   "source": [
    "## Add a new session to the process"
   ]
  },
  {
   "cell_type": "code",
   "execution_count": null,
   "metadata": {},
   "outputs": [],
   "source": [
    "new_session_config = {\n",
    "    \"name\": \"New Demo Session\",\n",
    "    \"description\": \"Another demo session for CIwA using LLMs\",\n",
    "    \"topics\": [\n",
    "        {\n",
    "            \"title\": \"What is a challenge that advanced AI technology poses\"\\\n",
    "                     \"to the collective benefit of humanity?\",\n",
    "            \"description\": \"Submit one sentence describing a specific challenge\"\\\n",
    "                     \"AI poses to the collective benefit of humanity.\"\n",
    "        }\n",
    "    ],\n",
    "    \"participants\": [\n",
    "        {\n",
    "            \"type\": \"ConversableAgentParticipant\",\n",
    "            \"model\": \"gpt-3.5-turbo\"\n",
    "        }\n",
    "    ]\n",
    "}\n",
    "\n",
    "process.add_session(new_session_config)"
   ]
  },
  {
   "cell_type": "markdown",
   "metadata": {},
   "source": [
    "## Add more participants to a session"
   ]
  },
  {
   "cell_type": "code",
   "execution_count": null,
   "metadata": {},
   "outputs": [],
   "source": [
    "# Set a number of participants\n",
    "num_participants = 5\n",
    "\n",
    "# Define the participant configuration\n",
    "participant_config = {\n",
    "    \"type\": \"ConversableAgentParticipant\",\n",
    "    \"model\": \"gpt-3.5-turbo\",\n",
    "    \"temperature\": 0.9, # higher temperature (0-1) increases randomness/diversity of output\n",
    "    \"cache_seed\": None, # set to None to avoid caching LLM replies\n",
    "}\n",
    "\n",
    "# Create a list of participant configurations\n",
    "list_of_participant_configs = [participant_config for _ in range(num_participants)]\n",
    "\n",
    "# add participants to a pending session\n",
    "process.pending_sessions[1].add_participants(list_of_participant_configs)\n"
   ]
  },
  {
   "cell_type": "markdown",
   "metadata": {},
   "source": [
    "## Visualize the process and sessions"
   ]
  },
  {
   "cell_type": "code",
   "execution_count": null,
   "metadata": {},
   "outputs": [],
   "source": [
    "print(\"Process and Sessions Initialized\")\n",
    "print(f\"Process: {process.name}\")\n",
    "for session in process.pending_sessions:\n",
    "    print(f\"Session: {session.name}, Description: {session.description}\")\n",
    "    for participant in session.participants:\n",
    "        print(f\"Participant: {participant.type}, Model: {participant.model}\")"
   ]
  },
  {
   "cell_type": "markdown",
   "metadata": {},
   "source": [
    "## Run a session and gather submissions"
   ]
  },
  {
   "cell_type": "code",
   "execution_count": null,
   "metadata": {},
   "outputs": [],
   "source": [
    "# Use the nest_asyncio package to allow nested use of asyncio.run() in a Notebook\n",
    "import nest_asyncio\n",
    "nest_asyncio.apply()\n",
    "\n",
    "async def run_session():\n",
    "    await process.run_next_session()\n",
    "\n",
    "await run_session()"
   ]
  },
  {
   "cell_type": "markdown",
   "metadata": {},
   "source": [
    "## Visualize session results"
   ]
  },
  {
   "cell_type": "code",
   "execution_count": null,
   "metadata": {},
   "outputs": [],
   "source": [
    "session = process.completed_sessions[-1]\n",
    "visualize_session(session)\n",
    "display_results(session)"
   ]
  },
  {
   "cell_type": "markdown",
   "metadata": {},
   "source": [
    "## Run the next session and visualize results"
   ]
  },
  {
   "cell_type": "code",
   "execution_count": null,
   "metadata": {},
   "outputs": [],
   "source": [
    "await run_session()"
   ]
  },
  {
   "cell_type": "code",
   "execution_count": null,
   "metadata": {},
   "outputs": [],
   "source": [
    "session = process.completed_sessions[-1]\n",
    "visualize_session(session)\n",
    "display_results(session)"
   ]
  },
  {
   "cell_type": "code",
   "execution_count": null,
   "metadata": {},
   "outputs": [],
   "source": []
  }
 ],
 "metadata": {
  "kernelspec": {
   "display_name": "Python 3 (ipykernel)",
   "language": "python",
   "name": "python3"
  },
  "language_info": {
   "codemirror_mode": {
    "name": "ipython",
    "version": 3
   },
   "file_extension": ".py",
   "mimetype": "text/x-python",
   "name": "python",
   "nbconvert_exporter": "python",
   "pygments_lexer": "ipython3",
   "version": "3.12.2"
  }
 },
 "nbformat": 4,
 "nbformat_minor": 4
}
